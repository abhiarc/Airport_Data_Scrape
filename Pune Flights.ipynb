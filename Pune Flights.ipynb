{
 "cells": [
  {
   "cell_type": "code",
   "execution_count": 115,
   "id": "whole-prison",
   "metadata": {},
   "outputs": [],
   "source": [
    "# Import libraries\n",
    "import requests\n",
    "import pandas as pd\n",
    "from bs4 import BeautifulSoup\n"
   ]
  },
  {
   "cell_type": "code",
   "execution_count": 116,
   "id": "waiting-hunter",
   "metadata": {},
   "outputs": [],
   "source": [
    "# Data\n",
    "URL = \"https://www.puneairport.com/departures.php\"\n",
    "page = requests.get(URL)\n",
    "#print(r.content)"
   ]
  },
  {
   "cell_type": "code",
   "execution_count": 117,
   "id": "north-consultation",
   "metadata": {},
   "outputs": [],
   "source": [
    "# Create a BeautifulSoup object\n",
    "soup = BeautifulSoup(page.content, \"html5lib\")\n",
    "#print(soup.prettify())"
   ]
  },
  {
   "cell_type": "code",
   "execution_count": 118,
   "id": "nonprofit-encoding",
   "metadata": {
    "scrolled": true,
    "tags": []
   },
   "outputs": [],
   "source": [
    "dep_table = soup.find('div',{'class':\"flights-info\"})\n",
    "#print(dep_table)"
   ]
  },
  {
   "cell_type": "code",
   "execution_count": 174,
   "id": "surprising-execution",
   "metadata": {
    "scrolled": true,
    "tags": []
   },
   "outputs": [
    {
     "name": "stdout",
     "output_type": "stream",
     "text": [
      "Destination\n",
      "Departure\n",
      "Flight\n",
      "Airline\n",
      "\n",
      "Delhi\n",
      "\t\t\t\t\t\t\t(DEL)\n",
      "18:50\n",
      "AI850\n",
      "\t\t\t\t\t\t\t\t\t\t\t\t\t\t\t\t \tLH5294\n",
      "Air India\n",
      "\t\t\t\t\t\t\t\t \t\t\t\t\t\t\t\t\t\t \t\t\tLufthansa\n",
      "\n",
      "Bengaluru\n",
      "\t\t\t\t\t\t\t(BLR)\n",
      "18:55\n",
      "UK554\n",
      "Vistara\n",
      "\n",
      "Bengaluru\n",
      "\t\t\t\t\t\t\t(BLR)\n",
      "19:05\n",
      "6E6055\n",
      "\t\t\t\t\t\t\t\t\t\t\t\t\t\t\t\t \tAF3344\n",
      "\t\t\t\t\t\t\t\t\t\t\t\t\t\t\t\t \tQF8340\n",
      "IndiGo\n",
      "\t\t\t\t\t\t\t\t \t\t\t\t\t\t\t\t\t\t \t\t\tAir France\n",
      "\t\t\t\t\t\t\t\t \t\t\t\t\t\t\t\t\t\t \t\t\tQantas\n",
      "\n",
      "Bengaluru\n",
      "\t\t\t\t\t\t\t(BLR)\n",
      "19:15\n",
      "I51427\n",
      "AirAsia India\n",
      "\n",
      "Bengaluru\n",
      "\t\t\t\t\t\t\t(BLR)\n",
      "20:15\n",
      "W28969\n",
      "FlexFlight\n",
      "\n",
      "Bengaluru\n",
      "\t\t\t\t\t\t\t(BLR)\n",
      "20:15\n",
      "G8242\n",
      "Go First\n",
      "\n",
      "Dubai\n",
      "\t\t\t\t\t\t\t(DXB)\n",
      "20:30\n",
      "SG51\n",
      "SpiceJet\n",
      "\n",
      "Delhi\n",
      "\t\t\t\t\t\t\t(DEL)\n",
      "20:35\n",
      "UK992\n",
      "\t\t\t\t\t\t\t\t\t\t\t\t\t\t\t\t \tAC2951\n",
      "\t\t\t\t\t\t\t\t\t\t\t\t\t\t\t\t \tBA5890\n",
      "\t\t\t\t\t\t\t\t\t\t\t\t\t\t\t\t \tLH7381\n",
      "\t\t\t\t\t\t\t\t\t\t\t\t\t\t\t\t \tLX4845\n",
      "\t\t\t\t\t\t\t\t\t\t\t\t\t\t\t\t \tUA7740\n",
      "Vistara\n",
      "\t\t\t\t\t\t\t\t \t\t\t\t\t\t\t\t\t\t \t\t\tAir Canada\n",
      "\t\t\t\t\t\t\t\t \t\t\t\t\t\t\t\t\t\t \t\t British Airways \n",
      "\t\t\t\t\t\t\t\t \t\t\t\t\t\t\t\t\t\t \t\t\tLufthansa\n",
      "\t\t\t\t\t\t\t\t \t\t\t\t\t\t\t\t\t\t \t\t\tSWISS\n",
      "\t\t\t\t\t\t\t\t \t\t\t\t\t\t\t\t\t\t \t\t\tUnited Airlines\n",
      "\n",
      "Delhi\n",
      "\t\t\t\t\t\t\t(DEL)\n",
      "20:50\n",
      "6E402\n",
      "\t\t\t\t\t\t\t\t\t\t\t\t\t\t\t\t \tAF3100\n",
      "\t\t\t\t\t\t\t\t\t\t\t\t\t\t\t\t \tKL3667\n",
      "IndiGo\n",
      "\t\t\t\t\t\t\t\t \t\t\t\t\t\t\t\t\t\t \t\t\tAir France\n",
      "\t\t\t\t\t\t\t\t \t\t\t\t\t\t\t\t\t\t \t\t\tKLM Royal Dutch Airlines\n",
      "\n",
      "Hyderabad\n",
      "\t\t\t\t\t\t\t(HYD)\n",
      "21:30\n",
      "9I868\n",
      "Alliance Air\n",
      "\n",
      "Delhi\n",
      "\t\t\t\t\t\t\t(DEL)\n",
      "21:55\n",
      "AI854\n",
      "Air India\n",
      "\n",
      "Delhi\n",
      "\t\t\t\t\t\t\t(DEL)\n",
      "22:15\n",
      "G8172\n",
      "Go First\n",
      "\n",
      "Delhi\n",
      "\t\t\t\t\t\t\t(DEL)\n",
      "22:15\n",
      "W28930\n",
      "FlexFlight\n",
      "\n",
      "Bengaluru\n",
      "\t\t\t\t\t\t\t(BLR)\n",
      "22:25\n",
      "6E103\n",
      "\t\t\t\t\t\t\t\t\t\t\t\t\t\t\t\t \tQF8342\n",
      "IndiGo\n",
      "\t\t\t\t\t\t\t\t \t\t\t\t\t\t\t\t\t\t \t\t\tQantas\n",
      "\n",
      "Ahmedabad\n",
      "\t\t\t\t\t\t\t(AMD)\n",
      "22:40\n",
      "6E547\n",
      "IndiGo\n",
      "\n",
      "Bengaluru\n",
      "\t\t\t\t\t\t\t(BLR)\n",
      "22:45\n",
      "G8284\n",
      "Go First\n",
      "\n",
      "Ahmedabad\n",
      "\t\t\t\t\t\t\t(AMD)\n",
      "23:00\n",
      "SG1078\n",
      "SpiceJet\n",
      "\n",
      "Goa\n",
      "\t\t\t\t\t\t\t(GOI)\n",
      "23:15\n",
      "SG8190\n",
      "SpiceJet\n",
      "\n",
      "Kochi\n",
      "\t\t\t\t\t\t\t(COK)\n",
      "23:40\n",
      "6E6658\n",
      "IndiGo\n",
      "\n",
      "Bengaluru\n",
      "\t\t\t\t\t\t\t(BLR)\n",
      "23:55\n",
      "I5975\n",
      "AirAsia India\n",
      "\n"
     ]
    }
   ],
   "source": [
    "job_elements = dep_table.find_all(\"div\", recursive=True, class_=\"flight-row\")\n",
    "for element in job_elements:\n",
    "    desti = element.find(\"div\", class_=\"flight-col flight-col__dest\").get_text()\n",
    "    dep_time = element.find(\"div\", class_=\"flight-col flight-col__hour\").get_text()\n",
    "    flight_nu = element.find(\"div\", class_=\"flight-col flight-col__flight\").get_text()\n",
    "    airline = element.find(\"div\", class_=\"flight-col flight-col__airline\").get_text()\n",
    "    print(desti.strip())\n",
    "    print(dep_time.strip())\n",
    "    print(flight_nu.strip())\n",
    "    print(airline.strip())\n",
    "    #print(job_elements)\n",
    "    print()"
   ]
  },
  {
   "cell_type": "code",
   "execution_count": 146,
   "id": "ranging-tutorial",
   "metadata": {},
   "outputs": [
    {
     "data": {
      "text/plain": [
       "str"
      ]
     },
     "execution_count": 146,
     "metadata": {},
     "output_type": "execute_result"
    }
   ],
   "source": [
    "type(final_df)"
   ]
  },
  {
   "cell_type": "code",
   "execution_count": 175,
   "id": "homeless-ratio",
   "metadata": {
    "scrolled": true,
    "tags": []
   },
   "outputs": [
    {
     "data": {
      "text/html": [
       "<div>\n",
       "<style scoped>\n",
       "    .dataframe tbody tr th:only-of-type {\n",
       "        vertical-align: middle;\n",
       "    }\n",
       "\n",
       "    .dataframe tbody tr th {\n",
       "        vertical-align: top;\n",
       "    }\n",
       "\n",
       "    .dataframe thead th {\n",
       "        text-align: right;\n",
       "    }\n",
       "</style>\n",
       "<table border=\"1\" class=\"dataframe\">\n",
       "  <thead>\n",
       "    <tr style=\"text-align: right;\">\n",
       "      <th></th>\n",
       "      <th>Details</th>\n",
       "    </tr>\n",
       "  </thead>\n",
       "  <tbody>\n",
       "    <tr>\n",
       "      <th>0</th>\n",
       "      <td>\\n\\n\\t\\t\\t\\t</td>\n",
       "    </tr>\n",
       "    <tr>\n",
       "      <th>1</th>\n",
       "      <td>Destinació</td>\n",
       "    </tr>\n",
       "    <tr>\n",
       "      <th>2</th>\n",
       "      <td>\\n\\t\\t\\t\\t</td>\n",
       "    </tr>\n",
       "    <tr>\n",
       "      <th>3</th>\n",
       "      <td>&lt;div class=\"flight-col flight-col__dest\"&gt;\\n\\t\\...</td>\n",
       "    </tr>\n",
       "    <tr>\n",
       "      <th>4</th>\n",
       "      <td>\\n\\n\\t\\t\\t\\t</td>\n",
       "    </tr>\n",
       "    <tr>\n",
       "      <th>5</th>\n",
       "      <td>&lt;div class=\"flight-col__subbox\"&gt;\\n\\n\\t\\t\\t\\t\\t...</td>\n",
       "    </tr>\n",
       "    <tr>\n",
       "      <th>6</th>\n",
       "      <td>\\n\\n\\t\\t\\t\\t</td>\n",
       "    </tr>\n",
       "    <tr>\n",
       "      <th>7</th>\n",
       "      <td>Terminal</td>\n",
       "    </tr>\n",
       "    <tr>\n",
       "      <th>8</th>\n",
       "      <td>\\n\\t\\t\\t\\t\\n\\t\\t\\t\\t\\n\\t\\t\\t\\t</td>\n",
       "    </tr>\n",
       "    <tr>\n",
       "      <th>9</th>\n",
       "      <td>Status</td>\n",
       "    </tr>\n",
       "    <tr>\n",
       "      <th>10</th>\n",
       "      <td>\\n\\t\\t\\t\\t</td>\n",
       "    </tr>\n",
       "    <tr>\n",
       "      <th>11</th>\n",
       "      <td>&lt;div class=\"flight-col flight-col__status flig...</td>\n",
       "    </tr>\n",
       "    <tr>\n",
       "      <th>12</th>\n",
       "      <td>\\n\\t\\t\\t\\t</td>\n",
       "    </tr>\n",
       "  </tbody>\n",
       "</table>\n",
       "</div>"
      ],
      "text/plain": [
       "                                              Details\n",
       "0                                        \\n\\n\\t\\t\\t\\t\n",
       "1                                         Destinació \n",
       "2                                          \\n\\t\\t\\t\\t\n",
       "3   <div class=\"flight-col flight-col__dest\">\\n\\t\\...\n",
       "4                                        \\n\\n\\t\\t\\t\\t\n",
       "5   <div class=\"flight-col__subbox\">\\n\\n\\t\\t\\t\\t\\t...\n",
       "6                                        \\n\\n\\t\\t\\t\\t\n",
       "7                                           Terminal \n",
       "8                      \\n\\t\\t\\t\\t\\n\\t\\t\\t\\t\\n\\t\\t\\t\\t\n",
       "9                                             Status \n",
       "10                                        \\n\\t\\t\\t\\t \n",
       "11  <div class=\"flight-col flight-col__status flig...\n",
       "12                                         \\n\\t\\t\\t\\t"
      ]
     },
     "metadata": {},
     "output_type": "display_data"
    }
   ],
   "source": [
    "df = pd.DataFrame(element,columns = ['Details'], dtype = str)\n",
    "display(df)"
   ]
  },
  {
   "cell_type": "code",
   "execution_count": 176,
   "id": "specified-detector",
   "metadata": {},
   "outputs": [
    {
     "data": {
      "text/plain": [
       "2452980316816"
      ]
     },
     "execution_count": 176,
     "metadata": {},
     "output_type": "execute_result"
    }
   ],
   "source": [
    "id(job_elements)"
   ]
  },
  {
   "cell_type": "code",
   "execution_count": 177,
   "id": "amended-newspaper",
   "metadata": {},
   "outputs": [
    {
     "data": {
      "text/plain": [
       "bs4.element.ResultSet"
      ]
     },
     "execution_count": 177,
     "metadata": {},
     "output_type": "execute_result"
    }
   ],
   "source": [
    "type(job_elements)"
   ]
  }
 ],
 "metadata": {
  "kernelspec": {
   "display_name": "Python 3",
   "language": "python",
   "name": "python3"
  },
  "language_info": {
   "codemirror_mode": {
    "name": "ipython",
    "version": 3
   },
   "file_extension": ".py",
   "mimetype": "text/x-python",
   "name": "python",
   "nbconvert_exporter": "python",
   "pygments_lexer": "ipython3",
   "version": "3.9.2"
  }
 },
 "nbformat": 4,
 "nbformat_minor": 5
}
